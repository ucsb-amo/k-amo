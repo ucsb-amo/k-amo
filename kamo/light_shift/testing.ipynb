{
 "cells": [
  {
   "cell_type": "code",
   "execution_count": 1,
   "metadata": {},
   "outputs": [],
   "source": [
    "def quantum_numbers_to_state_label(n,l,j):\n",
    "    \"\"\"\n",
    "    Converts a set of quantum numbers to the Russel-Saunders string that\n",
    "    appears in the UDel portal csv.\n",
    "\n",
    "    Args:\n",
    "        n (int): The n quantum number for the specified state.\n",
    "        l (int): The l quantum number for the specified state.\n",
    "        j (float): The j quantum number for the specified state.\n",
    "    \"\"\"\n",
    "\n",
    "    if l == 0:\n",
    "        Lstr = \"s\"\n",
    "    elif l == 1:\n",
    "        Lstr = \"p\"\n",
    "    elif l == 2:\n",
    "        Lstr == \"d\"\n",
    "    elif l == 3:\n",
    "        Lstr == \"f\"\n",
    "    else:\n",
    "        raise ValueError(\"The quantum number 'l' must be between 0 and 3 -- maximum state supported is f\")\n",
    "    \n",
    "    if l == 0:\n",
    "        Jbounds = [1/2]\n",
    "    else:\n",
    "        Jbounds = [l-1/2,l+1/2]\n",
    "\n",
    "    if j not in Jbounds:\n",
    "        raise ValueError(\"The quantum number 'j' must take the value l-1/2 or l+1/2\")\n",
    "    \n",
    "    if j == 0.5:\n",
    "        jStr = \"1/2\"\n",
    "    elif j == 1.5:\n",
    "        jStr == \"3/2\"\n",
    "    elif j == 2.5:\n",
    "        jStr == \"5/2\"\n",
    "    elif j == 3.5:\n",
    "        jStr == \"7/2\"\n",
    "    elif j == 4.5:\n",
    "        jStr == \"9/2\"\n",
    "\n",
    "    return f\"{n}{Lstr}{jStr}\""
   ]
  },
  {
   "cell_type": "code",
   "execution_count": 2,
   "metadata": {},
   "outputs": [
    {
     "data": {
      "text/plain": [
       "'4s1/2'"
      ]
     },
     "execution_count": 2,
     "metadata": {},
     "output_type": "execute_result"
    }
   ],
   "source": [
    "quantum_numbers_to_state_label(4,0,1/2)"
   ]
  },
  {
   "cell_type": "code",
   "execution_count": 19,
   "metadata": {},
   "outputs": [],
   "source": [
    "import os\n",
    "import pandas as pd\n",
    "def load_portal_data(portal_data_folder = r\"B:\\\\_K\\\\Resources\\\\udel_potassium_matrix_elements\",\n",
    "                     portal_data_relpath = r\"K1MatrixElements_complete.csv\"):\n",
    "    '''Returns the data for all matrix elements in potassium from the UDel atomic physics portal.\n",
    "\n",
    "    Args:\n",
    "        portal_data_folder (str, optional): The folder where the complete matrix\n",
    "        elements csv file is stored. Defaults to\n",
    "        \"B:\\\\_K\\\\Resources\\\\udel_potassium_matrix_elements\".\n",
    "        \n",
    "        portal_data_relpath (str, optional): The filename of the complete matrix\n",
    "        elements csv file. Defaults to \"K1MatrixElements_complete.csv\".\n",
    "\n",
    "    Returns:\n",
    "        DataFrame: the matrix element data for all transitions.\n",
    "    '''    \n",
    "    data_fullpath = os.path.join(portal_data_folder,portal_data_relpath)\n",
    "    data = pd.read_csv(data_fullpath)\n",
    "    return data"
   ]
  },
  {
   "cell_type": "code",
   "execution_count": null,
   "metadata": {},
   "outputs": [],
   "source": []
  }
 ],
 "metadata": {
  "kernelspec": {
   "display_name": "kpy",
   "language": "python",
   "name": "python3"
  },
  "language_info": {
   "codemirror_mode": {
    "name": "ipython",
    "version": 3
   },
   "file_extension": ".py",
   "mimetype": "text/x-python",
   "name": "python",
   "nbconvert_exporter": "python",
   "pygments_lexer": "ipython3",
   "version": "3.10.11"
  },
  "orig_nbformat": 4
 },
 "nbformat": 4,
 "nbformat_minor": 2
}
